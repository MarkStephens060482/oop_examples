{
  "cells": [
    {
      "cell_type": "markdown",
      "metadata": {
        "id": "view-in-github",
        "colab_type": "text"
      },
      "source": [
        "<a href=\"https://colab.research.google.com/github/MarkStephens060482/oop_examples/blob/main/example%201.ipynb\" target=\"_parent\"><img src=\"https://colab.research.google.com/assets/colab-badge.svg\" alt=\"Open In Colab\"/></a>"
      ]
    },
    {
      "cell_type": "markdown",
      "id": "b36a9eb1-dfdc-4adf-9bdd-1d0434d8a7e5",
      "metadata": {
        "id": "b36a9eb1-dfdc-4adf-9bdd-1d0434d8a7e5"
      },
      "source": [
        "# Object Oriented Programming\n",
        "### Mark Stephens"
      ]
    },
    {
      "cell_type": "markdown",
      "id": "5cd5d389-2099-493b-9399-04b69ad560fe",
      "metadata": {
        "id": "5cd5d389-2099-493b-9399-04b69ad560fe"
      },
      "source": [
        "___\n",
        "### A Secondary School scenario\n",
        "*The People attending a senior secondary college are all **College Members**, where a **College Member** is a **Staff** member and also is a **Student**. A **Staff** member is a **Teacher** and also is an **Education Support** staff. A **Student** has a **Teacher** and also has a **Homework** task to complete, while the **Teacher** has a **Homework** task to assign.*    \n",
        "___"
      ]
    },
    {
      "cell_type": "markdown",
      "id": "1e715310-5686-42ea-ac60-912ba2cdfd03",
      "metadata": {
        "id": "1e715310-5686-42ea-ac60-912ba2cdfd03"
      },
      "source": [
        "### Dictionaries of relevant data"
      ]
    },
    {
      "cell_type": "code",
      "execution_count": null,
      "id": "6faf2f78-8e53-4046-8c26-a56a77f991da",
      "metadata": {
        "id": "6faf2f78-8e53-4046-8c26-a56a77f991da"
      },
      "outputs": [],
      "source": [
        "\n",
        "# Teacher Class Salaries in Victorian Government Schools\n",
        "from collections import OrderedDict\n",
        "Teacher_salary_dict = OrderedDict({\n",
        "    '1-1' : 73499,\n",
        "    '1-2' : 75427,\n",
        "    '1-3' : 78210,\n",
        "    '1-4' : 81095,\n",
        "    '1-5' : 84088,\n",
        "    '2-1' : 87191,\n",
        "    '2-2' : 90408,\n",
        "    '2-3' : 93744,\n",
        "    '2-4' : 97204,\n",
        "    '2-5' : 100790,\n",
        "    '2-6' : 109029\n",
        "    })\n",
        "\n",
        "# Eucation Support Class Salaries in Victorian Government Schools\n",
        "\n",
        "ES_salary_dict = OrderedDict( {\n",
        "    '1-1' : 47672,\n",
        "    '1-2' : 49730,\n",
        "    '2-1' : 52250,\n",
        "    '2-2' : 54273,\n",
        "    '2-3' : 56270,\n",
        "    '2-4' : 58268,\n",
        "    '2-5' : 60266,\n",
        "    '2-6' : 62263,\n",
        "    '2-7' : 64911,\n",
        "    '2-8' : 66915\n",
        "    })\n",
        "\n",
        "# Days of the work week\n",
        "week = [\"Monday\", \"Tuesday\", \"Wednesday\", \"Thursday\", \"Friday\"]"
      ]
    },
    {
      "cell_type": "markdown",
      "id": "77705fa7-130d-4b6b-9a43-ce0e34373076",
      "metadata": {
        "id": "77705fa7-130d-4b6b-9a43-ce0e34373076"
      },
      "source": [
        "### Useful functions"
      ]
    },
    {
      "cell_type": "code",
      "execution_count": null,
      "id": "1a875e0b-4129-4e2c-a0a9-2b3a6f5f68f4",
      "metadata": {
        "id": "1a875e0b-4129-4e2c-a0a9-2b3a6f5f68f4"
      },
      "outputs": [],
      "source": [
        "# A function to calculate income tax\n",
        "\n",
        "def income_tax(taxable_income: int) -> float:\n",
        "    \"\"\" Calculatesi income tax based on residential income tax rate for 2022/23 period.\n",
        "    'https://www.ato.gov.au/rates/individual-income-tax-rates/'\n",
        "    Arguements:\n",
        "    taxable_income - the gross income per annum.\n",
        "    \"\"\"\n",
        "    if taxable_income <= 18200:\n",
        "        tax = 0\n",
        "    elif taxable_income <= 45000:\n",
        "        tax = 0.19*(taxable_income - 18200)\n",
        "    elif taxable_income <= 120000:\n",
        "        tax = 5092 + 0.325*(taxable_income - 45000)\n",
        "    elif taxable_income <= 180000:\n",
        "        tax = 29467 + 0.37*(taxable_income - 120000)\n",
        "    else:\n",
        "        tax = 51667 + 0.45*(taxable_income-180000)\n",
        "    return tax\n",
        "\n",
        "#determines a duration of time in years\n",
        "\n",
        "def duration_years(year_joined: int) -> int:\n",
        "    \"\"\"\n",
        "    Determines the difference in two date objects, expresses in terms of total number of seconds and converts to\n",
        "    nearest whole number of years.\n",
        "    Arguements:\n",
        "    year_joined - The year the person joined the college.\n",
        "    \"\"\"\n",
        "    from datetime import date\n",
        "    return int(divmod((date.today()-date(year_joined,1,1)).total_seconds(),60*60*24*365)[0])  # years in duration\n",
        "\n",
        "\n",
        "def work_status(time_fraction: float) -> str:\n",
        "    \"\"\"\n",
        "    States if the staff member has a work status of 'full-time' or 'part-time' based on their time fraction\n",
        "    Arguements:\n",
        "    time_fraction - days of the week the staff member works as a proportion.\n",
        "    \"\"\"\n",
        "    if time_fraction < 1:\n",
        "        return \"part-time\"\n",
        "    else:\n",
        "        return \"full-time\"\n",
        "\n",
        ""
      ]
    },
    {
      "cell_type": "code",
      "execution_count": null,
      "id": "a76254cd-0bd4-4d03-b6af-f18bccbbb264",
      "metadata": {
        "tags": [],
        "id": "a76254cd-0bd4-4d03-b6af-f18bccbbb264"
      },
      "outputs": [],
      "source": [
        "# Define classes of objects.\n",
        "class CollegeMember:\n",
        "    \"\"\"\n",
        "    A person attending a Senior Secondary School.\n",
        "    Attributes:\n",
        "    name - Full name of the person.\n",
        "    year_joined - The year the person joined the college.\n",
        "    contact_detail - A dictionary of contact details such as emails and mobile numbers.\n",
        "    \"\"\"\n",
        "    def __init__(self, name: str, year_joined: int, contact_detail: dict = {}):\n",
        "        self.name = name\n",
        "        self.year_joined = year_joined\n",
        "        self.contact = contact_detail\n",
        "\n",
        "    def __repr__(self):\n",
        "        y = duration_years(self.year_joined)\n",
        "        return f\"{self.name} has been apart of the college for {y} years.\"\n",
        "\n",
        "    def add_contact(self, contact_type: str, detail: str) -> None:\n",
        "        \"\"\"\n",
        "        Adds a contact detail for the person as a dictionary entry.\n",
        "        Arguements:\n",
        "        contact_type - The type of contact, such as 'mobile', 'email', etc.\n",
        "        detail - the contact detail as a string, such as '0423456765', 'name@email.com.au'.\n",
        "        \"\"\"\n",
        "        self.contact[contact_type] = detail\n",
        "        new_line = '\\n'\n",
        "        return print(f\"Contact details are: {new_line} {repr(self.contact)}\")\n",
        "\n",
        "    def remove_contact(self, contact_key: str) -> None:\n",
        "        \"\"\"\n",
        "        Removes a contact detail for a person from a dictionary.\n",
        "        Arguements:\n",
        "        contact_key - The contact as a dictionary key to be removed.\n",
        "        \"\"\"\n",
        "        remove =  self.contact.pop(contact_key)\n",
        "        new_line = '\\n'\n",
        "        return print(f\"The Contact detail removed is: {new_line} {contact_key} : {remove}\")\n",
        "\n",
        "\n",
        "class Staff(CollegeMember):\n",
        "    \"\"\"\n",
        "    A staff member employed at the college.\n",
        "    Attributes:\n",
        "    name - Full name of the person.\n",
        "    year_joined - The year the person joined the college.\n",
        "    employment_years - the total number of years employed with the Department of Education,\n",
        "                       which is greater than or equal to year_joined, time with college.\n",
        "    time_fraction - days of the week the staff member works as a proportion.\n",
        "    contact_detail - A dictionary of contact details such as emails and mobile numbers.\n",
        "    sickleave - The amount of sick leave entitlement in days\n",
        "    \"\"\"\n",
        "    def __init__(self, name: str, year_joined: int, employment_years: int, time_fraction: float, contact_detail: dict = {}):\n",
        "        CollegeMember.__init__(self, name, year_joined, contact_detail)\n",
        "        self.years = employment_years\n",
        "        self.tf =  time_fraction\n",
        "        # The sick leave entitlements for staff is 15 days per year of service\n",
        "        self.sickleave = 15*employment_years\n",
        "\n",
        "    def __repr__(self):\n",
        "        y = duration_years(self.year_joined)\n",
        "        status = work_status(self.tf)\n",
        "        return f\"{self.name} is {status} staff and has been apart of the college for {y} years.\"\n",
        "\n",
        "    def calculate_net_income(self):\n",
        "        \"\"\"\n",
        "        Calculates the income tax for the 2022/2023 financial year based on employment_years and time_fraction attributes,\n",
        "        and gives an estimate for the net income per fortnight.\n",
        "        \"\"\"\n",
        "        # Error Handler for user input if method is called for object of Staff\n",
        "        while True:\n",
        "            try:\n",
        "                # user must select either Teacher or ES_Staff\n",
        "                option = int(input(\"Enter '1' for Teacher or '0' for Education Support Staff:\"))\n",
        "            except ValueError:\n",
        "                print('Please respond with either a 1 or 0.')\n",
        "                continue\n",
        "            if option not in (0,1):\n",
        "                print('Please respond with either a 1 or 0.')\n",
        "                continue\n",
        "            else:\n",
        "                break\n",
        "        salary_dict = (ES_salary_dict,Teacher_salary_dict)[option]\n",
        "        #iterate through the dictionary in reverse\n",
        "        for i,(k,v) in reversed(list(enumerate(salary_dict.items()))):\n",
        "            # check if years employed is greater than or equal to largest item number.\n",
        "            if (self.years > i):\n",
        "                total_income = v\n",
        "                salary_range = k\n",
        "                break\n",
        "        # calculate income tax\n",
        "        taxable_income = total_income * self.tf\n",
        "\n",
        "        tax = income_tax(taxable_income)\n",
        "\n",
        "        # estimates the fortnightly wage\n",
        "        wage = round((taxable_income - tax)/26,2)\n",
        "\n",
        "        stafftype = ('Education Support Staff','Teacher')[option]\n",
        "\n",
        "        return print(f\"The fortnightly pay estimate for {self.name} at a {stafftype} salary range of {salary_range} is ${wage}\")\n",
        "\n",
        "    def take_sickleave(self, days):\n",
        "        \"\"\"\n",
        "        Taking sickleave deducts from sickleave entitlements.\n",
        "        Arguements:\n",
        "        days - the number of days the staff member is absent.\n",
        "        \"\"\"\n",
        "        self.sickleave -= days\n",
        "        return print(f\"{self.name} has taken {days} days of sick leave and has remaining entitlement of {self.sickleave} days.\")\n",
        "\n",
        "\n",
        "class Teacher(Staff):\n",
        "    \"\"\"\n",
        "    A classroom Teacher employed at the college.\n",
        "    Attributes:\n",
        "    name - Full name of the person.\n",
        "    year_joined - The year the person joined the college.\n",
        "    employment_years - the total number of years employed with the Department of Education,\n",
        "                       which is greater than or equal to year_joined, time with college.\n",
        "    time_fraction - days of the week the staff member works as a proportion.\n",
        "    subject - the subject they teach.\n",
        "    homework_duration - The amount of homework in hours per week the teacher gives out.\n",
        "    contact_detail - A dictionary of contact details such as emails and mobile numbers.\n",
        "    \"\"\"\n",
        "    def __init__(self,\n",
        "                 name: str,\n",
        "                 year_joined: int,\n",
        "                 employment_years: int,\n",
        "                 time_fraction: float,\n",
        "                 subject: str,\n",
        "                 homework_duration: int,\n",
        "                 contact_detail: dict = {}):\n",
        "        Staff.__init__(self, name, year_joined, employment_years, time_fraction, contact_detail)\n",
        "        self.subject = subject\n",
        "        self.homework = Homework(homework_duration) # Composition relationship: Teacher has Homework\n",
        "\n",
        "    def __repr__(self):\n",
        "        y = duration_years(self.year_joined)\n",
        "        status = work_status(self.tf)\n",
        "        return f\"{self.name} is {status}, teaches {self.subject}, has {self.homework.expectation()} \\\n",
        "homework expectations and has been apart of the college for {y} years.\"\n",
        "\n",
        "    def teaching(self) -> None:\n",
        "        from random import sample\n",
        "        days_list = sample(week,round(self.tf*len(week)))\n",
        "        days_string = \", \".join(days_list)\n",
        "        return print(f\"{self.name} is teaching {self.subject} on {days_string}\")\n",
        "\n",
        "    def calculate_net_income(self) -> None:\n",
        "        \"\"\"\n",
        "        Calculates the income tax for the 2022/2023 financial year based on employment_years and time_fraction attributes,\n",
        "        and gives an estimate for the net income per fortnight. This is specific for Teachers.\n",
        "        \"\"\"\n",
        "        salary_dict = Teacher_salary_dict\n",
        "        #iterate through the dictionary in reverse\n",
        "        for i,(k,v) in reversed(list(enumerate(salary_dict.items()))):\n",
        "            # check if years employed is greater than or equal to largest item number.\n",
        "            if (self.years > i):\n",
        "                total_income = v\n",
        "                salary_range = k\n",
        "                break\n",
        "        # calculate income tax\n",
        "        taxable_income = total_income * self.tf\n",
        "\n",
        "        tax = income_tax(taxable_income)\n",
        "\n",
        "        # estimates the fortnightly wage\n",
        "        wage = round((taxable_income - tax)/26,2)\n",
        "\n",
        "        return print(f\"The fortnightly pay estimate for {self.name} at a Teacher salary range of {salary_range} is ${wage}\")\n",
        "\n",
        "\n",
        "class EducationSupport(Staff):\n",
        "    \"\"\"\n",
        "    A staff member employed in an Education Support role.\n",
        "    Attributes:\n",
        "    name - Full name of the person.\n",
        "    year_joined - The year the person joined the college.\n",
        "    employment_years - the total number of years employed with the Department of Education,\n",
        "                       which is greater than or equal to year_joined, time with college.\n",
        "    time_fraction - days of the week the staff member works as a proportion.\n",
        "    role - the role they perform at the college.\n",
        "    contact_detail - A dictionary of contact details such as emails and mobile numbers.\n",
        "    \"\"\"\n",
        "    def __init__(self, name: str, year_joined: int, employment_years: int, time_fraction: float, role: str, contact_detail: dict = {}):\n",
        "        Staff.__init__(self, name, year_joined, employment_years, time_fraction, contact_detail)\n",
        "        self.role = role\n",
        "\n",
        "    def __repr__(self):\n",
        "        y = duration_years(self.year_joined)\n",
        "        status = work_status(self.tf)\n",
        "        return f\"{self.name} is {status}, has a role of {self.role} and has been apart of the college for {y} years.\"\n",
        "\n",
        "    def calculate_net_income(self) -> None:\n",
        "        \"\"\"\n",
        "        Calculates the income tax for the 2022/2023 financial year based on employment_years and time_fraction attributes,\n",
        "        and gives an estimate for the net income per fortnight. This is specific for Teachers.\n",
        "        \"\"\"\n",
        "        salary_dict = ES_salary_dict\n",
        "        #iterate through the dictionary in reverse\n",
        "        for i,(k,v) in reversed(list(enumerate(salary_dict.items()))):\n",
        "            # check if years employed is greater than or equal to largest item number.\n",
        "            if (self.years > i):\n",
        "                total_income = v\n",
        "                salary_range = k\n",
        "                break\n",
        "        # calculate income tax\n",
        "        taxable_income = total_income * self.tf\n",
        "\n",
        "        tax = income_tax(taxable_income)\n",
        "\n",
        "        # estimates the fortnightly wage\n",
        "        wage = round((taxable_income - tax)/26,2)\n",
        "\n",
        "        return print(f\"The fortnightly pay estimate for {self.name} at an Education Support Staff salary range of {salary_range} is ${wage}\")\n",
        "\n",
        "\n",
        "class Student(CollegeMember):\n",
        "    \"\"\" Students attending the college.\n",
        "    Attributes:\n",
        "    name - Full name of the person.\n",
        "    year_joined - The year the person joined the college.\n",
        "    study - hours of regular study the student does at home per week.\n",
        "    classes - A dictionary of teachers, subjects and homework hours.\n",
        "    contact_detail - A dictionary of contact details such as emails and mobile numbers.\n",
        "    level - based on current date and year_joined\n",
        "    \"\"\"\n",
        "    def __init__(self, name: str, year_joined: int, study_hours: int , classes: dict = {}, contact_detail: dict = {}):\n",
        "        CollegeMember.__init__(self, name, year_joined, contact_detail)\n",
        "        self.classes = classes\n",
        "        self.study_hours = study_hours\n",
        "        # Define attribute year_level\n",
        "        y = duration_years(self.year_joined)\n",
        "        if y > 2:\n",
        "            self.level = \"graduated\"\n",
        "        else:\n",
        "            self.level = y + 10\n",
        "\n",
        "    def __repr__(self):\n",
        "        y = duration_years(self.year_joined)\n",
        "        if y > 2:\n",
        "            return f\"{self.name} graduated from the college from {self.year_joined + 3 }.\"\n",
        "        else:\n",
        "            return f\"{self.name} is in Year {self.level} and studies {self.study_hours} hours per week\"\n",
        "\n",
        "\n",
        "    def add_classes(self, teacher: type[Teacher]) -> None:\n",
        "        \"\"\"\n",
        "        Adds a Teacher's relevant details of name, subject and homework hours to a dictionary.\n",
        "        Arguements:\n",
        "        teacher - an object instance of Teacher class\n",
        "        \"\"\"\n",
        "        self.classes[teacher.name] = [teacher.subject,str(teacher.homework.expectation())+\" expectation\"]\n",
        "        self.study_hours += teacher.homework.duration\n",
        "        new_line = '\\n'\n",
        "        return print(f\"{self.name}'s list of Teachers, subjects and homework expectations: {new_line} {repr(self.classes)}\")\n",
        "\n",
        "    def study(self,hours) -> None:\n",
        "        \"\"\"\n",
        "        The student studies for a given number of hours.\n",
        "        Arguements:\n",
        "        hours - The number of hours the student studies\n",
        "        \"\"\"\n",
        "        remaining_hours = self.study_hours - hours\n",
        "        if remaining_hours > 0:\n",
        "            return print(f\"{self.name} has studied for {hours} hours and has {remaining_hours} hours of study left for the week.\")\n",
        "        else:\n",
        "            return print(f\"{self.name} has finished studying for the week.\")\n",
        "\n",
        "class Homework:\n",
        "    \"\"\" Assigned Homework by a Teacher.\n",
        "    Attributes:\n",
        "    duration - the expected time per week to be spent on homework.\n",
        "    \"\"\"\n",
        "    def __init__(self,duration):\n",
        "        self.duration = duration\n",
        "\n",
        "    def __repr__(self):\n",
        "        return f\"Assigned homework is expected to take {self.duration} hours per week.\"\n",
        "\n",
        "    def expectation(self) -> str:\n",
        "        \"\"\"\n",
        "        Gives a rating of homework expectation based on time spent per week.\n",
        "        \"\"\"\n",
        "        if self.duration <= 2:\n",
        "            return \"low\"\n",
        "        elif self.duration <= 4:\n",
        "            return \"satisfactory\"\n",
        "        elif self.duration <= 6:\n",
        "            return \"high\"\n",
        "        else:\n",
        "            return \"very high\"\n",
        ""
      ]
    },
    {
      "cell_type": "markdown",
      "id": "2b7bc423-7629-4b77-9afb-31d8fa234920",
      "metadata": {
        "id": "2b7bc423-7629-4b77-9afb-31d8fa234920"
      },
      "source": [
        "---"
      ]
    },
    {
      "cell_type": "markdown",
      "id": "f0f5d195-5470-48bc-8b41-a0d16e5e0cdb",
      "metadata": {
        "id": "f0f5d195-5470-48bc-8b41-a0d16e5e0cdb"
      },
      "source": [
        "1. Find a hierarchy of real-life entities with an inheritance relationship and define these using Python. Your hierarchy should have at least one superclass and at least two subclasses and must not be from those already described in the course. For each class, you must define at least two attributes and two functions. Create objects from each of the classes and call their functions."
      ]
    },
    {
      "cell_type": "markdown",
      "id": "5fb36372-3a26-413d-87d3-0a97c51360f2",
      "metadata": {
        "id": "5fb36372-3a26-413d-87d3-0a97c51360f2"
      },
      "source": [
        "### Object from CollegeMember class"
      ]
    },
    {
      "cell_type": "code",
      "execution_count": null,
      "id": "07e039cd-812e-42fd-921c-c36dbb24b9ca",
      "metadata": {
        "id": "07e039cd-812e-42fd-921c-c36dbb24b9ca",
        "outputId": "8fb7a092-5aab-402b-d832-873ce4028077"
      },
      "outputs": [
        {
          "name": "stdout",
          "output_type": "stream",
          "text": [
            "Mark Stephens has been apart of the college for 11 years.\n",
            "\n",
            "\n",
            "Contact details are: \n",
            " {'mobile': '0412345678'}\n",
            "\n",
            "\n",
            "Contact details are: \n",
            " {'mobile': '0412345678', 'email': 'name@email.com.au'}\n",
            "\n",
            "\n",
            "The Contact detail removed is: \n",
            " mobile : 0412345678\n",
            "\n",
            "\n"
          ]
        }
      ],
      "source": [
        "\n",
        "cmember1 = CollegeMember('Mark Stephens',2012)\n",
        "print(cmember1)\n",
        "print(\"\\n\")\n",
        "#Calling the functions.\n",
        "cmember1.add_contact('mobile','0412345678')\n",
        "print(\"\\n\")\n",
        "cmember1.add_contact('email','name@email.com.au')\n",
        "print(\"\\n\")\n",
        "cmember1.remove_contact('mobile')\n",
        "print(\"\\n\")\n"
      ]
    },
    {
      "cell_type": "markdown",
      "id": "e9440965-54a8-41ab-8041-3c6de05a46d2",
      "metadata": {
        "id": "e9440965-54a8-41ab-8041-3c6de05a46d2"
      },
      "source": [
        "### Object from Staff class"
      ]
    },
    {
      "cell_type": "code",
      "execution_count": null,
      "id": "425d7763-d14b-4f99-b196-92d5aec043d7",
      "metadata": {
        "id": "425d7763-d14b-4f99-b196-92d5aec043d7",
        "outputId": "6a091be9-caee-44cc-d14e-b3427a11065c"
      },
      "outputs": [
        {
          "name": "stdout",
          "output_type": "stream",
          "text": [
            "Ryan Reynolds is part-time staff and has been apart of the college for 4 years.\n",
            "\n",
            "\n",
            "Contact details are: \n",
            " {'mobile': '0498765432'}\n",
            "\n",
            "\n",
            "The Contact detail removed is: \n",
            " mobile : 0498765432\n",
            "\n",
            "\n",
            "Ryan Reynolds has taken 2 days of sick leave and has remaining entitlement of 118 days.\n",
            "\n",
            "\n"
          ]
        },
        {
          "name": "stdin",
          "output_type": "stream",
          "text": [
            "Enter '1' for Teacher or '0' for Education Support Staff: 1\n"
          ]
        },
        {
          "name": "stdout",
          "output_type": "stream",
          "text": [
            "The fortnightly pay estimate for Ryan Reynolds at a Teacher salary range of 2-3 is $2313.64\n",
            "\n",
            "\n"
          ]
        }
      ],
      "source": [
        "staff1 = Staff(\"Ryan Reynolds\",2019,8,0.8)\n",
        "\n",
        "#Calling the functions.\n",
        "print(staff1)\n",
        "print(\"\\n\")\n",
        "staff1.add_contact('mobile','0498765432') # Demonstrates Inheritance of function from super class. Staff is a CollegeMember\n",
        "print(\"\\n\")\n",
        "staff1.remove_contact('mobile') # Demonstrates Inheritance of function from super class. Staff is a CollegeMember\n",
        "print(\"\\n\")\n",
        "staff1.take_sickleave(2)\n",
        "print(\"\\n\")\n",
        "staff1.calculate_net_income()\n",
        "print(\"\\n\")\n"
      ]
    },
    {
      "cell_type": "markdown",
      "id": "84f39494-3b5b-41a5-a923-60cfbe6c492e",
      "metadata": {
        "id": "84f39494-3b5b-41a5-a923-60cfbe6c492e"
      },
      "source": [
        "### Object from Teacher class"
      ]
    },
    {
      "cell_type": "code",
      "execution_count": null,
      "id": "ea8644f7-1515-402c-8edd-07b9fa769c18",
      "metadata": {
        "id": "ea8644f7-1515-402c-8edd-07b9fa769c18",
        "outputId": "7b7f1d46-dc19-4d21-e776-f05b724df28e"
      },
      "outputs": [
        {
          "name": "stdout",
          "output_type": "stream",
          "text": [
            "Mark Stephens is part-time, teaches Mathematics, has high homework expectations and has been apart of the college for 11 years.\n",
            "\n",
            "\n",
            "Mark Stephens is teaching Mathematics on Friday, Tuesday, Wednesday\n",
            "\n",
            "\n",
            "Contact details are: \n",
            " {'phone': '0356789012'}\n",
            "\n",
            "\n",
            "The fortnightly pay estimate for Mark Stephens at a Teacher salary range of 2-6 is $2064.99\n",
            "\n",
            "\n",
            "Mark Stephens has taken 5 days of sick leave and has remaining entitlement of 235 days.\n"
          ]
        }
      ],
      "source": [
        "teacher1 = Teacher(\"Mark Stephens\",2012,16,0.6,\"Mathematics\",5)\n",
        "\n",
        "#Calling the functions.\n",
        "print(teacher1)\n",
        "print(\"\\n\")\n",
        "teacher1.teaching()\n",
        "print(\"\\n\")\n",
        "teacher1.add_contact('phone', '0356789012') # Demonstrates Inheritance of function from super class. Teacher is a Staff is a CollegeMember\n",
        "print(\"\\n\")\n",
        "teacher1.calculate_net_income() # Demonstrates Inheritance of function from super class. Teacher is a Staff.\n",
        "print(\"\\n\")\n",
        "teacher1.take_sickleave(5)  # Demonstrates Inheritance of function from super class. Teacher is a Staff."
      ]
    },
    {
      "cell_type": "markdown",
      "id": "21fcfc36-12fa-489c-a6f0-857256566815",
      "metadata": {
        "id": "21fcfc36-12fa-489c-a6f0-857256566815"
      },
      "source": [
        "### Object from EducationSupport class"
      ]
    },
    {
      "cell_type": "code",
      "execution_count": null,
      "id": "2921d6aa-557f-4759-b18d-7f37b2346703",
      "metadata": {
        "id": "2921d6aa-557f-4759-b18d-7f37b2346703",
        "outputId": "dcf68dee-041b-47c5-a065-ee19df5a5513"
      },
      "outputs": [
        {
          "name": "stdout",
          "output_type": "stream",
          "text": [
            "Hugh Jackman is part-time, has a role of Administration and has been apart of the college for 1 years.\n",
            "\n",
            "\n",
            "Contact details are: \n",
            " {'email': 'hugh@school.com.au'}\n",
            "\n",
            "\n",
            "The Contact detail removed is: \n",
            " email : hugh@school.com.au\n",
            "\n",
            "\n",
            "The fortnightly pay estimate for Hugh Jackman at an Education Support Staff salary range of 2-2 is $1485.65\n",
            "\n",
            "\n",
            "Hugh Jackman has taken 10 days of sick leave and has remaining entitlement of 50 days.\n"
          ]
        }
      ],
      "source": [
        "esupport1 = EducationSupport('Hugh Jackman',2022,4,0.8,\"Administration\")\n",
        "\n",
        "#Calling the functions.\n",
        "print(esupport1)\n",
        "print(\"\\n\")\n",
        "esupport1.add_contact('email','hugh@school.com.au')  # Demonstrates Inheritance of function from super class.\n",
        "print(\"\\n\")\n",
        "esupport1.remove_contact('email')  # Demonstrates Inheritance of function from super class.\n",
        "print(\"\\n\")\n",
        "esupport1.calculate_net_income() # Demonstrates Inheritance of function from super class.\n",
        "print(\"\\n\")\n",
        "esupport1.take_sickleave(10) # Demonstrates Inheritance of function from super class.\n"
      ]
    },
    {
      "cell_type": "markdown",
      "id": "ecbeff33-4746-4361-b81b-18118f85b76d",
      "metadata": {
        "tags": [],
        "id": "ecbeff33-4746-4361-b81b-18118f85b76d"
      },
      "source": [
        "___"
      ]
    },
    {
      "cell_type": "markdown",
      "id": "089bcd96-79e0-48cc-926b-8a9e9261fe79",
      "metadata": {
        "id": "089bcd96-79e0-48cc-926b-8a9e9261fe79"
      },
      "source": [
        "2. Find a set of at least three entities where aggregation and a composition relation exist. The classes can also have an inheritance relationship. Define the attributes and the behaviour of the classes. Create objects of each of the classes and call their functions."
      ]
    },
    {
      "cell_type": "code",
      "execution_count": null,
      "id": "726e7100-851b-4a35-a1f0-8bbf47e15d76",
      "metadata": {
        "id": "726e7100-851b-4a35-a1f0-8bbf47e15d76",
        "outputId": "f5d21f78-6667-4472-9dac-df054b452b78"
      },
      "outputs": [
        {
          "name": "stdout",
          "output_type": "stream",
          "text": [
            "Eddie Wu is full-time, teaches Mathematics, has very high homework expectations and has been apart of the college for 5 years.\n",
            "\n",
            "\n",
            "Calling the method of the Homework class from the object of Teacher class: very high\n",
            "\n",
            "\n",
            "Assigned homework is expected to take 5 hours per week.\n",
            "\n",
            "\n",
            "Homework expectation:   high\n",
            "\n",
            "\n",
            "Tom Holland graduated from the college from 2003.\n",
            "\n",
            "\n",
            "Millie Bobby Brown is in Year 11 and studies 4 hours per week\n",
            "\n",
            "\n",
            "Millie Bobby Brown's list of Teachers, subjects and homework expectations: \n",
            " {'Eddie Wu': ['Mathematics', 'very high expectation']}\n",
            "\n",
            "\n",
            "Millie Bobby Brown is in Year 11 and studies 12 hours per week\n",
            "\n",
            "\n",
            "Millie Bobby Brown has studied for 5 hours and has 7 hours of study left for the week.\n"
          ]
        }
      ],
      "source": [
        "teacher2 = Teacher(\"Eddie Wu\",2018,10,1,\"Mathematics\",8)\n",
        "student1 = Student(\"Tom Holland\",2000,2)\n",
        "homework1 = Homework(5)\n",
        "\n",
        "# Calling the methods of Teacher Class object that demonstrates a Composition relationship.\n",
        "print(teacher2)\n",
        "print(\"\\n\")\n",
        "# This Demonstrates a Composition relationship as the instance of Teacher class, t2, is a container for an object of Homework class.\n",
        "# The function belonging to the Homework class object is called from the Teacher class object with homework attribute.\n",
        "print(f\"Calling the method of the Homework class from the object of Teacher class: {teacher2.homework.expectation()}\")\n",
        "print(\"\\n\")\n",
        "\n",
        "# Calling the methods of Homework Class object.\n",
        "print(homework1)\n",
        "print(\"\\n\")\n",
        "print(\"Homework expectation:  \",homework1.expectation())\n",
        "print(\"\\n\")\n",
        "\n",
        "# Calling the methods of Student class object that demonstrates an Aggregation relationship.\n",
        "print(student1)\n",
        "print(\"\\n\")\n",
        "# This Demonstrates an Aggregation relationship as an object of Teacher class, t2, is defined outside and passed as a parameter of a function of\n",
        "#Student class object.\n",
        "student2 = Student(\"Millie Bobby Brown\", 2022,4)\n",
        "print(student2)\n",
        "print(\"\\n\")\n",
        "student2.add_classes(teacher2) # This increases the amount of study hours per week\n",
        "print(\"\\n\")\n",
        "print(student2) # Note: Study hours per week have increased .\n",
        "print(\"\\n\")\n",
        "#Calling other functions\n",
        "student2.study(5)"
      ]
    },
    {
      "cell_type": "markdown",
      "id": "122d3035-e575-47ed-a2f5-2c8e98da7e46",
      "metadata": {
        "id": "122d3035-e575-47ed-a2f5-2c8e98da7e46"
      },
      "source": [
        "---"
      ]
    },
    {
      "cell_type": "markdown",
      "id": "934c2d98-1f8c-40ee-beac-82301253cb42",
      "metadata": {
        "id": "934c2d98-1f8c-40ee-beac-82301253cb42"
      },
      "source": [
        "3. Find and define a hierarchy of real-life entities that have an inheritance relationship and for which you can highlight polymorphism. The entities can be those identified in Q1, but cannot be any from those already described in the course. Create objects and call their functions in order to show polymorphism."
      ]
    },
    {
      "cell_type": "code",
      "execution_count": null,
      "id": "841c3fe5-5d97-4863-b765-1a063b158e5c",
      "metadata": {
        "id": "841c3fe5-5d97-4863-b765-1a063b158e5c",
        "outputId": "ad57200e-ccaf-4b87-b64c-0cda5bdceb0e"
      },
      "outputs": [
        {
          "name": "stdin",
          "output_type": "stream",
          "text": [
            "Enter '1' for Teacher or '0' for Education Support Staff: 0\n"
          ]
        },
        {
          "name": "stdout",
          "output_type": "stream",
          "text": [
            "The fortnightly pay estimate for Chris Hemsworth at a Education Support Staff salary range of 2-3 is $1535.34\n",
            "\n",
            "\n",
            "The fortnightly pay estimate for Liam Hemsworth at a Teacher salary range of 1-5 is $2113.1\n",
            "\n",
            "\n",
            "The fortnightly pay estimate for Luke Hemsworth at an Education Support Staff salary range of 2-3 is $1535.34\n"
          ]
        }
      ],
      "source": [
        "years_employed = 5\n",
        "time_fraction = 0.8\n",
        "staff2 = Staff(\"Chris Hemsworth\",2020,years_employed,time_fraction)\n",
        "teacher3 = Teacher(\"Liam Hemsworth\",2021,years_employed,time_fraction,\"Physics\",3)\n",
        "esupport2 = EducationSupport(\"Luke Hemsworth\",2022,years_employed,time_fraction,\"Integration Aide\")\n",
        "\n",
        "# This demonstrates polymorphism, Note: The three objects all share the same attributes pertaining to the specific polymorphic function,\n",
        "# though still leading to different behaviour when the function is called.\n",
        "staff2.calculate_net_income()\n",
        "print(\"\\n\")\n",
        "teacher3.calculate_net_income()\n",
        "print(\"\\n\")\n",
        "esupport2.calculate_net_income()\n"
      ]
    }
  ],
  "metadata": {
    "kernelspec": {
      "display_name": "Python 3 (ipykernel)",
      "language": "python",
      "name": "python3"
    },
    "language_info": {
      "codemirror_mode": {
        "name": "ipython",
        "version": 3
      },
      "file_extension": ".py",
      "mimetype": "text/x-python",
      "name": "python",
      "nbconvert_exporter": "python",
      "pygments_lexer": "ipython3",
      "version": "3.9.7"
    },
    "colab": {
      "provenance": [],
      "include_colab_link": true
    }
  },
  "nbformat": 4,
  "nbformat_minor": 5
}