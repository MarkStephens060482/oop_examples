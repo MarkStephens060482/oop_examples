{
  "cells": [
    {
      "cell_type": "markdown",
      "metadata": {
        "id": "view-in-github",
        "colab_type": "text"
      },
      "source": [
        "<a href=\"https://colab.research.google.com/github/MarkStephens060482/oop_examples/blob/main/Prac2Module.ipynb\" target=\"_parent\"><img src=\"https://colab.research.google.com/assets/colab-badge.svg\" alt=\"Open In Colab\"/></a>"
      ]
    },
    {
      "cell_type": "markdown",
      "source": [
        "# Truncated Skewed Normal Distribution"
      ],
      "metadata": {
        "id": "owjJbBf5ZY3O"
      },
      "id": "owjJbBf5ZY3O"
    },
    {
      "cell_type": "code",
      "execution_count": null,
      "id": "79ae1767-cd8e-4d06-94b2-6306f9af9fd5",
      "metadata": {
        "id": "79ae1767-cd8e-4d06-94b2-6306f9af9fd5"
      },
      "outputs": [],
      "source": [
        "\"\"\"\n",
        "Truncated Skew Normal Random Number Generator\n",
        "This uses a simpson method approximation for the integral of the pdf of the skew normal distribution\n",
        "to form the cumulative distribution function.\n",
        "Attributes:\n",
        "    m - mean of distribution.\n",
        "    s - standard deviation of distribution\n",
        "    l - skew of distribution\n",
        "    a - minimum value of truncated distribution\n",
        "    b - maximum value of truncated distriubtion\n",
        "    h - step size of numerical integration\n",
        "\"\"\"\n",
        "import numpy as np\n",
        "from scipy import special\n",
        "\n",
        "def znormpdf(x):\n",
        "    return ((2*np.pi)**(-0.5))*np.exp(-0.5*(x**2))\n",
        "\n",
        "\n",
        "def znormcdf(x):\n",
        "    return 0.5*(1 + special.erf(x/np.sqrt(2)))\n",
        "\n",
        "def skewnormpdf(x,m,s,l):\n",
        "    return (2/s)*znormpdf((x-m)/s)*znormcdf(l*(x-m)/s)\n",
        "\n",
        "def simpson_sncdf(x,m,s,l,h):\n",
        "    # calculating the number of steps for step size of h to span from m-6*s to x\n",
        "    n = int((x-(m-6*s))/h)\n",
        "    array_prob = []\n",
        "    array_z = []\n",
        "    # find initial integration value and corresponding z_score\n",
        "    integration = skewnormpdf(m-6*s,m,s,l)\n",
        "    z_score = ((m-6*s)-m)/s\n",
        "    array_prob.append(integration*h/3)\n",
        "    array_z.append(z_score)\n",
        "    # find all integration values at an interval of h apart with corresponding z_score.\n",
        "    for i in range(1,n):\n",
        "        k = (m-6*s) + i*h\n",
        "        if i % 2 == 0:\n",
        "            integration = integration + 2 * skewnormpdf(k,m,s,l)\n",
        "        else:\n",
        "            integration = integration + 4 * skewnormpdf(k,m,s,l)\n",
        "        z_score = (k-m)/s\n",
        "        array_prob.append(integration*h/3)\n",
        "        array_z.append(z_score)\n",
        "    # Finding final integration value and corresponding z_score\n",
        "    integration = integration + skewnormpdf(x,m,s,l)\n",
        "    z_score = (x-m)/s\n",
        "    array_prob.append(integration*h/3)\n",
        "    array_z.append(z_score)\n",
        "    return array_z, array_prob\n",
        "\n",
        "def approx_inverse_sncdf(m,s,l,a,b,h):\n",
        "    max_prob = simpson_sncdf(b,m,s,l,h)[1][-1]\n",
        "    min_prob = simpson_sncdf(a,m,s,l,h)[1][-1]\n",
        "    val = min_prob + np.random.uniform()*(max_prob-min_prob)\n",
        "    arr = simpson_sncdf(1000,m,s,l,h)\n",
        "    index = np.abs(arr[1] - val).argmin()\n",
        "    return arr[0][index]\n",
        "\n",
        "def trucskewnormrand(m,s,l,a,b,h):\n",
        "    rand_num = m + s*approx_inverse_sncdf(m,s,l,a,b,h)\n",
        "    return rand_num"
      ]
    }
  ],
  "metadata": {
    "kernelspec": {
      "display_name": "Python 3 (ipykernel)",
      "language": "python",
      "name": "python3"
    },
    "language_info": {
      "codemirror_mode": {
        "name": "ipython",
        "version": 3
      },
      "file_extension": ".py",
      "mimetype": "text/x-python",
      "name": "python",
      "nbconvert_exporter": "python",
      "pygments_lexer": "ipython3",
      "version": "3.9.7"
    },
    "colab": {
      "provenance": [],
      "include_colab_link": true
    }
  },
  "nbformat": 4,
  "nbformat_minor": 5
}